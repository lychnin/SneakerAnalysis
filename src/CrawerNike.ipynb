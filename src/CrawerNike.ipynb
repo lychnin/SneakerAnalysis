{
 "cells": [
  {
   "cell_type": "code",
   "execution_count": 1,
   "metadata": {},
   "outputs": [],
   "source": [
    "import requests\n",
    "import json\n",
    "from bs4 import BeautifulSoup\n",
    "import pandas as pd"
   ]
  },
  {
   "cell_type": "code",
   "execution_count": 2,
   "metadata": {},
   "outputs": [],
   "source": [
    "def request(url):\n",
    "    # response是一个Python requests库中的Response对象，它包含了服务器响应的所有信息\n",
    "    response = requests.get(url)\n",
    "    remessage={\n",
    "        \"status\":response.status_code,\n",
    "        \"headers\":response.headers,\n",
    "        \"content\":response.content,\n",
    "    }\n",
    "\n",
    "    with open('sneakerNowre.html', 'w') as f:\n",
    "        f.write(response.content.decode('utf-8'))\n",
    "    return remessage"
   ]
  },
  {
   "cell_type": "code",
   "execution_count": 3,
   "metadata": {},
   "outputs": [],
   "source": [
    "def parseSneaker(url,MaxSize):\n",
    "    dicts={}\n",
    "    title=[]\n",
    "    link=[]\n",
    "    datelist=[]\n",
    "    texts=[]\n",
    "    sources=[]\n",
    "    images=[]\n",
    "    sourcelink=[]\n",
    "    for i in range(1,MaxSize+1):\n",
    "        if i==1:\n",
    "            remessage=request(url)\n",
    "        else:\n",
    "            remessage=request(url+f\"/page/{i}/\")\n",
    "        content=remessage[\"content\"]\n",
    "        soup = BeautifulSoup(content, 'html.parser')\n",
    "        tags = soup.find_all('div', {'class': 'nowre-list-item-info'})\n",
    "        for tag in tags:\n",
    "            child_tags = tag.find_all('div', {'class': 'nowre-list-item-title'})\n",
    "            dates=tag.find_all('span', {'class': 'item-time'})\n",
    "            for child_tag in child_tags:\n",
    "                #print(child_tag.text.strip())\n",
    "                cchild_tags = child_tag.find('a')[\"href\"]\n",
    "                # print(cchild_tags)\n",
    "                title.append(child_tag.text.strip())\n",
    "                link.append(cchild_tags)\n",
    "            for datee in dates:\n",
    "                datelist.append(datee.text)\n",
    "    for url in link:\n",
    "        response2 = requests.get(url)\n",
    "        childmessage=response2.content\n",
    "        soup = BeautifulSoup(childmessage, 'html.parser')\n",
    "        p_tags = soup.find_all('p')\n",
    "        text=\"\"\n",
    "        for p in p_tags:\n",
    "            text=text+p.text\n",
    "        texts.append(text)\n",
    "        source=soup.find_all('div', {'class': 'info-common-source text-gray'})\n",
    "        if source!=[]:\n",
    "            href=source[0].find(\"a\")[\"href\"]\n",
    "            a=source[0].find(\"a\")\n",
    "            sourcelink.append(href)\n",
    "            sources.append(a.text)\n",
    "        else:\n",
    "            sourcelink.append(\"None\")\n",
    "            sources.append(\"None\")\n",
    "        image=soup.find_all('img',{'class':'img-responsive center-table'})\n",
    "        imagee=[]\n",
    "        for i in image:\n",
    "            src=i['src']\n",
    "            imagee.append(src)\n",
    "        images.append(imagee)\n",
    "    data=pd.DataFrame({\n",
    "        \"title\":title,\n",
    "        \"link\":link,\n",
    "        \"date\":datelist,\n",
    "        \"content\":texts,\n",
    "        \"image\":images,\n",
    "        \"source\":sources,\n",
    "        \"sourcelink\":sourcelink\n",
    "        })\n",
    "    data.to_csv('NOWREdemo.csv') # 保存为csv文件\n",
    "    return dicts"
   ]
  },
  {
   "cell_type": "code",
   "execution_count": 5,
   "metadata": {},
   "outputs": [],
   "source": [
    "# url的组合\n",
    "base_url=\"https://nowre.com\"\n",
    "expand=[\"/news\",\"/topic\",\"/fashion\",\"/sneaker\",\"/life\",\"/tech\"]\n",
    "link=[]\n",
    "for ele in expand:\n",
    "    link.append(base_url+ele)\n",
    "\n",
    "url = link[3]\n",
    "MaxSize=1648\n",
    "\n",
    "\n"
   ]
  },
  {
   "cell_type": "code",
   "execution_count": null,
   "metadata": {},
   "outputs": [],
   "source": []
  }
 ],
 "metadata": {
  "kernelspec": {
   "display_name": "d2l",
   "language": "python",
   "name": "python3"
  },
  "language_info": {
   "codemirror_mode": {
    "name": "ipython",
    "version": 3
   },
   "file_extension": ".py",
   "mimetype": "text/x-python",
   "name": "python",
   "nbconvert_exporter": "python",
   "pygments_lexer": "ipython3",
   "version": "3.9.16"
  },
  "orig_nbformat": 4
 },
 "nbformat": 4,
 "nbformat_minor": 2
}
